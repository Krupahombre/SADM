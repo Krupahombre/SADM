{
 "cells": [
  {
   "metadata": {},
   "cell_type": "code",
   "source": [
    "import pandas as pd\n",
    "import numpy as np\n",
    "from scipy import stats\n",
    "import statsmodels.api as sm\n",
    "import statsmodels.formula.api as smf\n",
    "import matplotlib.pyplot as plt\n",
    "from lifelines import KaplanMeierFitter\n",
    "from lifelines.statistics import logrank_test\n",
    "from sklearn.metrics import roc_curve, roc_auc_score\n",
    "import scikit_posthocs as sp"
   ],
   "id": "17bc56b1d597a8ce",
   "outputs": [],
   "execution_count": null
  },
  {
   "metadata": {},
   "cell_type": "code",
   "source": [
    "hf = pd.read_csv(\"data/heart_failure_clinical_records_dataset.csv\")\n",
    "stud = pd.read_csv(\"data/student-por.csv\")"
   ],
   "id": "157e5787778e1040",
   "outputs": [],
   "execution_count": null
  },
  {
   "metadata": {},
   "cell_type": "markdown",
   "source": "# Statystyka opisowa",
   "id": "4a718d20dcd37d8b"
  },
  {
   "metadata": {},
   "cell_type": "markdown",
   "source": "## Heart Failure",
   "id": "2f6e1fd7562a1444"
  },
  {
   "metadata": {},
   "cell_type": "code",
   "source": "hf.describe()",
   "id": "bbdba6adcf04e84d",
   "outputs": [],
   "execution_count": null
  },
  {
   "metadata": {},
   "cell_type": "code",
   "source": "hf.info()",
   "id": "706d6afb5d0a720f",
   "outputs": [],
   "execution_count": null
  },
  {
   "metadata": {},
   "cell_type": "code",
   "source": "hf.head()",
   "id": "9194e8a200636b3a",
   "outputs": [],
   "execution_count": null
  },
  {
   "metadata": {},
   "cell_type": "markdown",
   "source": "## Student Por",
   "id": "1558e1b120d2237e"
  },
  {
   "metadata": {},
   "cell_type": "code",
   "source": "stud.describe()",
   "id": "90f2c9a86036c4f2",
   "outputs": [],
   "execution_count": null
  },
  {
   "metadata": {},
   "cell_type": "code",
   "source": "stud.info()",
   "id": "fb3c9d21bd2c5c5d",
   "outputs": [],
   "execution_count": null
  },
  {
   "metadata": {},
   "cell_type": "code",
   "source": "stud.head()",
   "id": "99612ba718fb4952",
   "outputs": [],
   "execution_count": null
  },
  {
   "metadata": {},
   "cell_type": "markdown",
   "source": "# Testy parametryczne",
   "id": "fc4a03be6bcfab71"
  },
  {
   "metadata": {},
   "cell_type": "markdown",
   "source": "## Test t",
   "id": "da2f4e94a1751484"
  },
  {
   "metadata": {},
   "cell_type": "code",
   "source": [
    "alive = hf.loc[hf[\"DEATH_EVENT\"] == 0, \"ejection_fraction\"]\n",
    "dead  = hf.loc[hf[\"DEATH_EVENT\"] == 1, \"ejection_fraction\"]\n",
    "t_stat, p_val = stats.ttest_ind(alive, dead, equal_var=False)\n",
    "print(f\"Test t (frakcja wyrzutowa): t = {t_stat:.2f}, p = {p_val:.4f}\")"
   ],
   "id": "657a4267109b6fee",
   "outputs": [],
   "execution_count": null
  },
  {
   "metadata": {},
   "cell_type": "markdown",
   "source": "## anova wiek 3 grupy",
   "id": "5fe1353b0621ffb0"
  },
  {
   "metadata": {},
   "cell_type": "code",
   "source": [
    "hf[\"age_cat\"] = pd.cut(hf[\"age\"], bins=[0,50,60,120], labels=[\"<50\",\"50‑60\",\">60\"])\n",
    "anova = sm.stats.anova_lm(smf.ols(\"serum_sodium ~ C(age_cat)\", data=hf).fit())\n",
    "anova"
   ],
   "id": "c21b5d5e0dd95ab8",
   "outputs": [],
   "execution_count": null
  },
  {
   "metadata": {},
   "cell_type": "markdown",
   "source": "# Nieparametryczne",
   "id": "9169610278c48b6"
  },
  {
   "metadata": {},
   "cell_type": "code",
   "source": [
    "u_stat, p_val = stats.mannwhitneyu(\n",
    "    hf.loc[hf[\"DEATH_EVENT\"] == 0, \"platelets\"],\n",
    "    hf.loc[hf[\"DEATH_EVENT\"] == 1, \"platelets\"],\n",
    "    alternative=\"two-sided\")\n",
    "print(f\"Mann‑Whitney U (platelets): U = {u_stat:.0f}, p = {p_val:.4f}\")"
   ],
   "id": "d8a09d469f80509a",
   "outputs": [],
   "execution_count": null
  },
  {
   "metadata": {},
   "cell_type": "code",
   "source": [
    "chi2, p, dof, tbl = stats.chi2_contingency(pd.crosstab(hf[\"sex\"], hf[\"DEATH_EVENT\"]))\n",
    "print(f\"Chi‑kwadrat (sex × zgon): χ² = {chi2:.2f}, p = {p:.4f}\\n\")\n",
    "print(tbl)"
   ],
   "id": "d1a4506161ef8dd2",
   "outputs": [],
   "execution_count": null
  },
  {
   "metadata": {},
   "cell_type": "markdown",
   "source": "# Kaplan mayer",
   "id": "9865557050668af9"
  },
  {
   "metadata": {},
   "cell_type": "code",
   "source": [
    "kmf = KaplanMeierFitter()\n",
    "\n",
    "fig, ax = plt.subplots()\n",
    "kmf.fit(hf[\"time\"], event_observed=hf[\"DEATH_EVENT\"], label=\"wszyscy\")\n",
    "kmf.plot(ax=ax)\n",
    "\n",
    "for grp, lbl in [(1,\"palący\"), (0,\"nie‑palący\")]:\n",
    "    mask = hf[\"smoking\"] == grp\n",
    "    kmf.fit(hf.loc[mask, \"time\"], event_observed=hf.loc[mask, \"DEATH_EVENT\"], label=lbl)\n",
    "    kmf.plot(ax=ax)\n",
    "\n",
    "ax.set_xlabel(\"Czas (dni)\")\n",
    "ax.set_ylabel(\"Prawdopodobieństwo przeżycia\")\n",
    "ax.set_title(\"Krzywe przeżycia Kaplana‑Meiera\")\n",
    "plt.show()\n",
    "\n",
    "result = logrank_test(\n",
    "    hf.loc[hf.smoking==1, \"time\"], hf.loc[hf.smoking==0, \"time\"],\n",
    "    event_observed_A=hf.loc[hf.smoking==1, \"DEATH_EVENT\"],\n",
    "    event_observed_B=hf.loc[hf.smoking==0, \"DEATH_EVENT\"])\n",
    "print(result)"
   ],
   "id": "7b33ba3244578c59",
   "outputs": [],
   "execution_count": null
  },
  {
   "metadata": {},
   "cell_type": "markdown",
   "source": "# Regresja",
   "id": "8f1d20c1cdac9ae0"
  },
  {
   "metadata": {},
   "cell_type": "code",
   "source": [
    "formula = \"DEATH_EVENT ~ age + ejection_fraction + serum_sodium + smoking\"\n",
    "logit_model = smf.logit(formula, data=hf).fit()\n",
    "logit_model.summary()"
   ],
   "id": "5d5d5d23b384b131",
   "outputs": [],
   "execution_count": null
  },
  {
   "metadata": {},
   "cell_type": "markdown",
   "source": "# ROC / AUC",
   "id": "424a0ea344d503d0"
  },
  {
   "metadata": {},
   "cell_type": "code",
   "source": [
    "y_true = hf[\"DEATH_EVENT\"]\n",
    "y_pred = logit_model.predict(hf)\n",
    "fpr, tpr, _ = roc_curve(y_true, y_pred)\n",
    "auc = roc_auc_score(y_true, y_pred)\n",
    "\n",
    "plt.plot(fpr, tpr, label=f\"AUC = {auc:.3f}\")\n",
    "plt.plot([0,1], [0,1], linestyle=\"--\")\n",
    "plt.xlabel(\"False Positive Rate\")\n",
    "plt.ylabel(\"True Positive Rate\")\n",
    "plt.title(\"ROC – regresja logistyczna (Heart Failure)\")\n",
    "plt.legend()\n",
    "plt.show()"
   ],
   "id": "a76673266d209bd8",
   "outputs": [],
   "execution_count": null
  },
  {
   "metadata": {},
   "cell_type": "markdown",
   "source": "# Friedmann",
   "id": "4884b134e4350911"
  },
  {
   "metadata": {},
   "cell_type": "code",
   "source": [
    "friedman_stat, p_val = stats.friedmanchisquare(stud[\"G1\"], stud[\"G2\"], stud[\"G3\"])\n",
    "print(f\"Friedman: χ² = {friedman_stat:.2f}, p = {p_val:.4e}\")\n",
    "\n",
    "posthoc = sp.posthoc_wilcoxon(stud[[\"G1\",\"G2\",\"G3\"]], p_adjust=\"holm\")\n",
    "display(posthoc)\n",
    "\n",
    "plt.boxplot([stud[\"G1\"], stud[\"G2\"], stud[\"G3\"]], labels=[\"G1\",\"G2\",\"G3\"])\n",
    "plt.ylabel(\"Ocena\")\n",
    "plt.title(\"Zmiana ocen w trzech okresach (Student Performance)\")\n",
    "plt.show()"
   ],
   "id": "c7862b10474308a4",
   "outputs": [],
   "execution_count": null
  }
 ],
 "metadata": {
  "kernelspec": {
   "display_name": "Python 3",
   "language": "python",
   "name": "python3"
  },
  "language_info": {
   "codemirror_mode": {
    "name": "ipython",
    "version": 2
   },
   "file_extension": ".py",
   "mimetype": "text/x-python",
   "name": "python",
   "nbconvert_exporter": "python",
   "pygments_lexer": "ipython2",
   "version": "2.7.6"
  }
 },
 "nbformat": 4,
 "nbformat_minor": 5
}
